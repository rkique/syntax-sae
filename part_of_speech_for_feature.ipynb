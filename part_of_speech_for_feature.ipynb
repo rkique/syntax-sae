{
 "cells": [
  {
   "cell_type": "code",
   "execution_count": 1,
   "metadata": {},
   "outputs": [
    {
     "name": "stderr",
     "output_type": "stream",
     "text": [
      "/Users/eriq/Desktop/syntax-sae/env/lib/python3.12/site-packages/tqdm/auto.py:21: TqdmWarning: IProgress not found. Please update jupyter and ipywidgets. See https://ipywidgets.readthedocs.io/en/stable/user_install.html\n",
      "  from .autonotebook import tqdm as notebook_tqdm\n"
     ]
    },
    {
     "name": "stdout",
     "output_type": "stream",
     "text": [
      "loading tokens\n"
     ]
    },
    {
     "data": {
      "text/plain": [
       "{'num_activations': 4368,\n",
       " 'pos_pcts': {'PROPN': 0.32080078125,\n",
       "  'NOUN': 0.3505859375,\n",
       "  'ADV': 0.033447265625,\n",
       "  'VERB': 0.2353515625,\n",
       "  'ADJ': 0.032379150390625,\n",
       "  'PART': 0.0159759521484375,\n",
       "  'NUM': 0.0120086669921875}}"
      ]
     },
     "execution_count": 1,
     "metadata": {},
     "output_type": "execute_result"
    }
   ],
   "source": [
    "from graphs import get_statistics, load_tokens, load_activations\n",
    "\n",
    "n = 2001\n",
    "print(\"loading tokens\")\n",
    "tokens, tokenizer = load_tokens(\"google/gemma-2-9B\", \"kh4dien/fineweb-100m-sample\")\n",
    "activations, locations = load_activations('features/11_0_3275.safetensors')\n",
    "statistics = get_statistics(n, activations, locations, tokens, tokenizer)\n",
    "\n",
    "statistics"
   ]
  }
 ],
 "metadata": {
  "kernelspec": {
   "display_name": "env",
   "language": "python",
   "name": "python3"
  },
  "language_info": {
   "codemirror_mode": {
    "name": "ipython",
    "version": 3
   },
   "file_extension": ".py",
   "mimetype": "text/x-python",
   "name": "python",
   "nbconvert_exporter": "python",
   "pygments_lexer": "ipython3",
   "version": "3.12.7"
  }
 },
 "nbformat": 4,
 "nbformat_minor": 2
}

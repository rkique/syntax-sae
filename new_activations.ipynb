{
 "cells": [
  {
   "cell_type": "markdown",
   "metadata": {},
   "source": [
    "This notebook downloads a small piece of a text dataset to local cache (`/Users/USER/.cache/huggingface/datasets` on macbook). Then, you should manually install the files (which are dicts for activations and locations for each feature) from [https://huggingface.co/datasets/MrGonao/raw_features_gemma16/tree/main](https://huggingface.co/datasets/MrGonao/raw_features_gemma16/tree/main) to the features folder. After doing this, the code below will find you the activating documents for each feature. "
   ]
  },
  {
   "cell_type": "markdown",
   "metadata": {},
   "source": [
    "### Get Contexts and View Batch"
   ]
  },
  {
   "cell_type": "code",
   "execution_count": 1,
   "metadata": {},
   "outputs": [],
   "source": [
    "import torch\n",
    "#get context\n",
    "def get_context(batch: list[str], pos: int, n=5) -> str:\n",
    "    context = ''.join([s for s in batch[pos-n:pos+n] if s != '\\n'])\n",
    "    return context\n",
    "\n",
    "def view_batch(n: int, tokens: torch.Tensor, tokenizer) -> list[str]:\n",
    "    assert(tokens.ndim == 2 and tokens.shape[1] == 256)\n",
    "    if n >= len(tokens):\n",
    "        return None\n",
    "    doc = tokens[n]\n",
    "    return tokenizer.batch_decode(doc)"
   ]
  },
  {
   "cell_type": "code",
   "execution_count": 3,
   "metadata": {},
   "outputs": [
    {
     "name": "stdout",
     "output_type": "stream",
     "text": [
      "Collecting matplotlib\n",
      "  Using cached matplotlib-3.9.2-cp312-cp312-macosx_11_0_arm64.whl.metadata (11 kB)\n",
      "Collecting contourpy>=1.0.1 (from matplotlib)\n",
      "  Using cached contourpy-1.3.0-cp312-cp312-macosx_11_0_arm64.whl.metadata (5.4 kB)\n",
      "Collecting cycler>=0.10 (from matplotlib)\n",
      "  Using cached cycler-0.12.1-py3-none-any.whl.metadata (3.8 kB)\n",
      "Collecting fonttools>=4.22.0 (from matplotlib)\n",
      "  Using cached fonttools-4.54.1-cp312-cp312-macosx_11_0_arm64.whl.metadata (163 kB)\n",
      "Collecting kiwisolver>=1.3.1 (from matplotlib)\n",
      "  Using cached kiwisolver-1.4.7-cp312-cp312-macosx_11_0_arm64.whl.metadata (6.3 kB)\n",
      "Requirement already satisfied: numpy>=1.23 in ./env/lib/python3.12/site-packages (from matplotlib) (2.0.2)\n",
      "Requirement already satisfied: packaging>=20.0 in ./env/lib/python3.12/site-packages (from matplotlib) (24.1)\n",
      "Requirement already satisfied: pillow>=8 in ./env/lib/python3.12/site-packages (from matplotlib) (11.0.0)\n",
      "Collecting pyparsing>=2.3.1 (from matplotlib)\n",
      "  Using cached pyparsing-3.2.0-py3-none-any.whl.metadata (5.0 kB)\n",
      "Requirement already satisfied: python-dateutil>=2.7 in ./env/lib/python3.12/site-packages (from matplotlib) (2.9.0.post0)\n",
      "Requirement already satisfied: six>=1.5 in ./env/lib/python3.12/site-packages (from python-dateutil>=2.7->matplotlib) (1.16.0)\n",
      "Using cached matplotlib-3.9.2-cp312-cp312-macosx_11_0_arm64.whl (7.8 MB)\n",
      "Using cached contourpy-1.3.0-cp312-cp312-macosx_11_0_arm64.whl (251 kB)\n",
      "Using cached cycler-0.12.1-py3-none-any.whl (8.3 kB)\n",
      "Using cached fonttools-4.54.1-cp312-cp312-macosx_11_0_arm64.whl (2.3 MB)\n",
      "Using cached kiwisolver-1.4.7-cp312-cp312-macosx_11_0_arm64.whl (63 kB)\n",
      "Using cached pyparsing-3.2.0-py3-none-any.whl (106 kB)\n",
      "Installing collected packages: pyparsing, kiwisolver, fonttools, cycler, contourpy, matplotlib\n",
      "Successfully installed contourpy-1.3.0 cycler-0.12.1 fonttools-4.54.1 kiwisolver-1.4.7 matplotlib-3.9.2 pyparsing-3.2.0\n",
      "\n",
      "\u001b[1m[\u001b[0m\u001b[34;49mnotice\u001b[0m\u001b[1;39;49m]\u001b[0m\u001b[39;49m A new release of pip is available: \u001b[0m\u001b[31;49m24.2\u001b[0m\u001b[39;49m -> \u001b[0m\u001b[32;49m24.3.1\u001b[0m\n",
      "\u001b[1m[\u001b[0m\u001b[34;49mnotice\u001b[0m\u001b[1;39;49m]\u001b[0m\u001b[39;49m To update, run: \u001b[0m\u001b[32;49mpip install --upgrade pip\u001b[0m\n"
     ]
    }
   ],
   "source": [
    "import networkx as nx\n",
    "import matplotlib.pyplot as plt\n",
    "\n",
    "def visualize_parse_tree(parse_dict):\n",
    "    G = nx.DiGraph()\n",
    "    for token in parse_dict:\n",
    "        G.add_node(token['text'])\n",
    "        for child in token['children']:\n",
    "            G.add_edge(token['text'], child)\n",
    "    plt.figure(figsize=(12, 8))\n",
    "    pos = nx.spring_layout(G)  # You can also try 'shell_layout', 'circular_layout', etc.\n",
    "    nx.draw(G, pos, with_labels=True, node_color=\"skyblue\", edge_color=\"gray\", node_size=2000, font_size=12, font_weight=\"bold\")\n",
    "    plt.show()"
   ]
  },
  {
   "cell_type": "code",
   "execution_count": 4,
   "metadata": {},
   "outputs": [
    {
     "name": "stdout",
     "output_type": "stream",
     "text": [
      "Package            Version\n",
      "------------------ -----------\n",
      "accelerate         1.0.1\n",
      "aiohappyeyeballs   2.4.3\n",
      "aiohttp            3.10.10\n",
      "aiosignal          1.3.1\n",
      "annotated-types    0.7.0\n",
      "appnope            0.1.4\n",
      "asttokens          2.4.1\n",
      "attrs              24.2.0\n",
      "beartype           0.14.1\n",
      "better-abc         0.0.3\n",
      "bidict             0.23.1\n",
      "blinker            1.8.2\n",
      "blis               1.0.1\n",
      "catalogue          2.0.10\n",
      "certifi            2024.8.30\n",
      "charset-normalizer 3.4.0\n",
      "click              8.1.7\n",
      "cloudpathlib       0.20.0\n",
      "comm               0.2.2\n",
      "confection         0.1.5\n",
      "contourpy          1.3.0\n",
      "cycler             0.12.1\n",
      "cymem              2.0.8\n",
      "datasets           3.0.2\n",
      "debugpy            1.8.7\n",
      "decorator          5.1.1\n",
      "diffusers          0.31.0\n",
      "dill               0.3.8\n",
      "docker-pycreds     0.4.0\n",
      "einops             0.8.0\n",
      "en_core_web_sm     3.8.0\n",
      "executing          2.1.0\n",
      "fancy-einsum       0.0.3\n",
      "filelock           3.16.1\n",
      "Flask              3.0.3\n",
      "fonttools          4.54.1\n",
      "frozenlist         1.5.0\n",
      "fsspec             2024.9.0\n",
      "gitdb              4.0.11\n",
      "GitPython          3.1.43\n",
      "h11                0.14.0\n",
      "huggingface-hub    0.26.2\n",
      "idna               3.10\n",
      "importlib_metadata 8.5.0\n",
      "ipykernel          6.29.5\n",
      "ipython            8.29.0\n",
      "itsdangerous       2.2.0\n",
      "jaxtyping          0.2.34\n",
      "jedi               0.19.1\n",
      "Jinja2             3.1.4\n",
      "jupyter_client     8.6.3\n",
      "jupyter_core       5.7.2\n",
      "kiwisolver         1.4.7\n",
      "langcodes          3.4.1\n",
      "language_data      1.2.0\n",
      "marisa-trie        1.2.1\n",
      "markdown-it-py     3.0.0\n",
      "MarkupSafe         3.0.2\n",
      "matplotlib         3.9.2\n",
      "matplotlib-inline  0.1.7\n",
      "mdurl              0.1.2\n",
      "mpmath             1.3.0\n",
      "multidict          6.1.0\n",
      "multiprocess       0.70.16\n",
      "murmurhash         1.0.10\n",
      "nest-asyncio       1.6.0\n",
      "networkx           3.4.2\n",
      "nnsight            0.3.6\n",
      "numpy              2.0.2\n",
      "packaging          24.1\n",
      "pandas             2.2.3\n",
      "parso              0.8.4\n",
      "pexpect            4.9.0\n",
      "pillow             11.0.0\n",
      "pip                24.2\n",
      "platformdirs       4.3.6\n",
      "preshed            3.0.9\n",
      "prompt_toolkit     3.0.48\n",
      "propcache          0.2.0\n",
      "protobuf           5.28.3\n",
      "psutil             6.1.0\n",
      "ptyprocess         0.7.0\n",
      "pure_eval          0.2.3\n",
      "pyarrow            18.0.0\n",
      "pydantic           2.9.2\n",
      "pydantic_core      2.23.4\n",
      "Pygments           2.18.0\n",
      "pyparsing          3.2.0\n",
      "python-dateutil    2.9.0.post0\n",
      "python-engineio    4.10.1\n",
      "python-socketio    5.11.4\n",
      "pytz               2024.2\n",
      "PyYAML             6.0.2\n",
      "pyzmq              26.2.0\n",
      "regex              2024.9.11\n",
      "requests           2.32.3\n",
      "rich               13.9.3\n",
      "safetensors        0.4.5\n",
      "sentencepiece      0.2.0\n",
      "sentry-sdk         2.17.0\n",
      "setproctitle       1.3.3\n",
      "setuptools         75.2.0\n",
      "shellingham        1.5.4\n",
      "simple-websocket   1.1.0\n",
      "six                1.16.0\n",
      "smart-open         7.0.5\n",
      "smmap              5.0.1\n",
      "spacy              3.8.2\n",
      "spacy-legacy       3.0.12\n",
      "spacy-loggers      1.0.5\n",
      "srsly              2.4.8\n",
      "stack-data         0.6.3\n",
      "sympy              1.13.1\n",
      "thinc              8.3.2\n",
      "tokenizers         0.20.1\n",
      "torch              2.5.0\n",
      "torchvision        0.20.0\n",
      "tornado            6.4.1\n",
      "tqdm               4.66.6\n",
      "traitlets          5.14.3\n",
      "transformer-lens   2.8.1\n",
      "transformers       4.46.0\n",
      "typeguard          2.13.3\n",
      "typer              0.12.5\n",
      "typing_extensions  4.12.2\n",
      "tzdata             2024.2\n",
      "urllib3            2.2.3\n",
      "wandb              0.18.5\n",
      "wasabi             1.1.3\n",
      "wcwidth            0.2.13\n",
      "weasel             0.4.1\n",
      "websocket-client   1.8.0\n",
      "Werkzeug           3.0.6\n",
      "wrapt              1.16.0\n",
      "wsproto            1.2.0\n",
      "xxhash             3.5.0\n",
      "yarl               1.16.0\n",
      "zipp               3.20.2\n"
     ]
    }
   ],
   "source": [
    "!pip list"
   ]
  },
  {
   "cell_type": "markdown",
   "metadata": {},
   "source": []
  },
  {
   "cell_type": "markdown",
   "metadata": {},
   "source": [
    "### Make and Visualize Parse Trees with Spacy"
   ]
  },
  {
   "cell_type": "code",
   "execution_count": 2,
   "metadata": {},
   "outputs": [
    {
     "name": "stderr",
     "output_type": "stream",
     "text": [
      "/Users/eriq/Desktop/syntax-sae/env/lib/python3.12/site-packages/tqdm/auto.py:21: TqdmWarning: IProgress not found. Please update jupyter and ipywidgets. See https://ipywidgets.readthedocs.io/en/stable/user_install.html\n",
      "  from .autonotebook import tqdm as notebook_tqdm\n"
     ]
    }
   ],
   "source": [
    "from graphs import load_tokens, load_activations\n",
    "tokens, tokenizer = load_tokens(\"google/gemma-2-9B\", \"kh4dien/fineweb-100m-sample\")\n",
    "activations, locations = load_activations('features/11_0_3275.safetensors')"
   ]
  },
  {
   "cell_type": "code",
   "execution_count": 3,
   "metadata": {},
   "outputs": [],
   "source": [
    "import spacy\n",
    "nlp = spacy.load(\"en_core_web_sm\")"
   ]
  },
  {
   "cell_type": "code",
   "execution_count": 24,
   "metadata": {},
   "outputs": [
    {
     "data": {
      "text/plain": [
       "<module 'graphs' from '/Users/eriq/Desktop/syntax-sae/graphs.py'>"
      ]
     },
     "execution_count": 24,
     "metadata": {},
     "output_type": "execute_result"
    }
   ],
   "source": [
    "import importlib\n",
    "import graphs\n",
    "from graphs import make_graph\n",
    "importlib.reload(graphs)"
   ]
  },
  {
   "cell_type": "code",
   "execution_count": 25,
   "metadata": {},
   "outputs": [],
   "source": [
    "\n",
    "from graphs import make_graph\n",
    "import networkx as nx\n",
    "import matplotlib.pyplot as plt\n",
    "\n",
    "def visualize_feature(n, activations, locations, k=5):\n",
    "    print(f\"Visualizing Feature {n}\")\n",
    "    idx = locations[:,2]== n\n",
    "    locations = locations[idx]\n",
    "    activations = activations[idx]\n",
    "    location_dicts = []\n",
    "    for location, activation in zip(locations, activations):\n",
    "        d = {}\n",
    "        d['batch'] = location[0]\n",
    "        d['position'] = location[1]\n",
    "        d['feature'] = location[2]\n",
    "        d['activation'] = activation\n",
    "        location_dicts.append(d)\n",
    "    sorted_location_dicts = sorted(location_dicts, key=lambda x: x['activation'], reverse=True)\n",
    "    count = 0\n",
    "    #visualize top trees first.\n",
    "    for d in sorted_location_dicts:\n",
    "        batch = view_batch(int(d['batch']), tokens, tokenizer)\n",
    "        if batch != None:\n",
    "                count += 1\n",
    "                pos = d['position']\n",
    "                context = get_context(batch, pos) #todo: figure out better parse tree context e.g. by punct.\n",
    "                root_node = make_parse_tree(context, pos)\n",
    "                graph, layout = make_graph(root_node)\n",
    "                labels = nx.get_node_attributes(graph, 'label')\n",
    "                plt.figure(figsize=(6, 4))\n",
    "                nx.draw(graph, layout, with_labels=True, labels=labels, node_size=2000, node_color='lightblue', font_size=10, font_weight='bold', arrows=True)\n",
    "                plt.show()\n",
    "                print(f'{batch[pos]:<15} @ {context:<50} {d[\"activation\"]}')\n",
    "        if count > k:\n",
    "            break"
   ]
  },
  {
   "cell_type": "code",
   "execution_count": 26,
   "metadata": {},
   "outputs": [
    {
     "name": "stdout",
     "output_type": "stream",
     "text": [
      "Visualizing Feature 3000\n"
     ]
    },
    {
     "ename": "ImportError",
     "evalue": "requires pygraphviz http://pygraphviz.github.io/",
     "output_type": "error",
     "traceback": [
      "\u001b[0;31m---------------------------------------------------------------------------\u001b[0m",
      "\u001b[0;31mModuleNotFoundError\u001b[0m                       Traceback (most recent call last)",
      "File \u001b[0;32m~/Desktop/syntax-sae/env/lib/python3.12/site-packages/networkx/drawing/nx_agraph.py:301\u001b[0m, in \u001b[0;36mpygraphviz_layout\u001b[0;34m(G, prog, root, args)\u001b[0m\n\u001b[1;32m    300\u001b[0m \u001b[38;5;28;01mtry\u001b[39;00m:\n\u001b[0;32m--> 301\u001b[0m     \u001b[38;5;28;01mimport\u001b[39;00m \u001b[38;5;21;01mpygraphviz\u001b[39;00m\n\u001b[1;32m    302\u001b[0m \u001b[38;5;28;01mexcept\u001b[39;00m \u001b[38;5;167;01mImportError\u001b[39;00m \u001b[38;5;28;01mas\u001b[39;00m err:\n",
      "\u001b[0;31mModuleNotFoundError\u001b[0m: No module named 'pygraphviz'",
      "\nThe above exception was the direct cause of the following exception:\n",
      "\u001b[0;31mImportError\u001b[0m                               Traceback (most recent call last)",
      "Cell \u001b[0;32mIn[26], line 1\u001b[0m\n\u001b[0;32m----> 1\u001b[0m \u001b[43mvisualize_feature\u001b[49m\u001b[43m(\u001b[49m\u001b[38;5;241;43m3000\u001b[39;49m\u001b[43m,\u001b[49m\u001b[43m \u001b[49m\u001b[43mactivations\u001b[49m\u001b[43m,\u001b[49m\u001b[43m \u001b[49m\u001b[43mlocations\u001b[49m\u001b[43m)\u001b[49m\n",
      "Cell \u001b[0;32mIn[25], line 28\u001b[0m, in \u001b[0;36mvisualize_feature\u001b[0;34m(n, activations, locations, k)\u001b[0m\n\u001b[1;32m     26\u001b[0m context \u001b[38;5;241m=\u001b[39m get_context(batch, pos) \u001b[38;5;66;03m#todo: figure out better parse tree context e.g. by punct.\u001b[39;00m\n\u001b[1;32m     27\u001b[0m root_node \u001b[38;5;241m=\u001b[39m make_parse_tree(context, pos)\n\u001b[0;32m---> 28\u001b[0m graph, layout \u001b[38;5;241m=\u001b[39m \u001b[43mmake_graph\u001b[49m\u001b[43m(\u001b[49m\u001b[43mroot_node\u001b[49m\u001b[43m)\u001b[49m\n\u001b[1;32m     29\u001b[0m labels \u001b[38;5;241m=\u001b[39m nx\u001b[38;5;241m.\u001b[39mget_node_attributes(graph, \u001b[38;5;124m'\u001b[39m\u001b[38;5;124mlabel\u001b[39m\u001b[38;5;124m'\u001b[39m)\n\u001b[1;32m     30\u001b[0m plt\u001b[38;5;241m.\u001b[39mfigure(figsize\u001b[38;5;241m=\u001b[39m(\u001b[38;5;241m6\u001b[39m, \u001b[38;5;241m4\u001b[39m))\n",
      "File \u001b[0;32m~/Desktop/syntax-sae/graphs.py:92\u001b[0m, in \u001b[0;36mmake_graph\u001b[0;34m(root_token)\u001b[0m\n\u001b[1;32m     90\u001b[0m add_nodes_edges(graph, root_token)\n\u001b[1;32m     91\u001b[0m \u001b[38;5;66;03m# Prepare layout and node labels\u001b[39;00m\n\u001b[0;32m---> 92\u001b[0m layout \u001b[38;5;241m=\u001b[39m \u001b[43mgraphviz_layout\u001b[49m\u001b[43m(\u001b[49m\u001b[43mgraph\u001b[49m\u001b[43m,\u001b[49m\u001b[43m \u001b[49m\u001b[38;5;241;43m*\u001b[39;49m\u001b[38;5;241;43m*\u001b[39;49m\u001b[43mlayout_kwargs\u001b[49m\u001b[43m)\u001b[49m  \u001b[38;5;66;03m# Layout for positioning nodes\u001b[39;00m\n\u001b[1;32m     93\u001b[0m \u001b[38;5;28;01mreturn\u001b[39;00m graph, layout\n",
      "File \u001b[0;32m~/Desktop/syntax-sae/env/lib/python3.12/site-packages/networkx/drawing/nx_agraph.py:257\u001b[0m, in \u001b[0;36mgraphviz_layout\u001b[0;34m(G, prog, root, args)\u001b[0m\n\u001b[1;32m    226\u001b[0m \u001b[38;5;28;01mdef\u001b[39;00m \u001b[38;5;21mgraphviz_layout\u001b[39m(G, prog\u001b[38;5;241m=\u001b[39m\u001b[38;5;124m\"\u001b[39m\u001b[38;5;124mneato\u001b[39m\u001b[38;5;124m\"\u001b[39m, root\u001b[38;5;241m=\u001b[39m\u001b[38;5;28;01mNone\u001b[39;00m, args\u001b[38;5;241m=\u001b[39m\u001b[38;5;124m\"\u001b[39m\u001b[38;5;124m\"\u001b[39m):\n\u001b[1;32m    227\u001b[0m \u001b[38;5;250m    \u001b[39m\u001b[38;5;124;03m\"\"\"Create node positions for G using Graphviz.\u001b[39;00m\n\u001b[1;32m    228\u001b[0m \n\u001b[1;32m    229\u001b[0m \u001b[38;5;124;03m    Parameters\u001b[39;00m\n\u001b[0;32m   (...)\u001b[0m\n\u001b[1;32m    255\u001b[0m \u001b[38;5;124;03m    see https://gitlab.com/graphviz/graphviz/-/issues/1767 for more info.\u001b[39;00m\n\u001b[1;32m    256\u001b[0m \u001b[38;5;124;03m    \"\"\"\u001b[39;00m\n\u001b[0;32m--> 257\u001b[0m     \u001b[38;5;28;01mreturn\u001b[39;00m \u001b[43mpygraphviz_layout\u001b[49m\u001b[43m(\u001b[49m\u001b[43mG\u001b[49m\u001b[43m,\u001b[49m\u001b[43m \u001b[49m\u001b[43mprog\u001b[49m\u001b[38;5;241;43m=\u001b[39;49m\u001b[43mprog\u001b[49m\u001b[43m,\u001b[49m\u001b[43m \u001b[49m\u001b[43mroot\u001b[49m\u001b[38;5;241;43m=\u001b[39;49m\u001b[43mroot\u001b[49m\u001b[43m,\u001b[49m\u001b[43m \u001b[49m\u001b[43margs\u001b[49m\u001b[38;5;241;43m=\u001b[39;49m\u001b[43margs\u001b[49m\u001b[43m)\u001b[49m\n",
      "File \u001b[0;32m~/Desktop/syntax-sae/env/lib/python3.12/site-packages/networkx/drawing/nx_agraph.py:303\u001b[0m, in \u001b[0;36mpygraphviz_layout\u001b[0;34m(G, prog, root, args)\u001b[0m\n\u001b[1;32m    301\u001b[0m     \u001b[38;5;28;01mimport\u001b[39;00m \u001b[38;5;21;01mpygraphviz\u001b[39;00m\n\u001b[1;32m    302\u001b[0m \u001b[38;5;28;01mexcept\u001b[39;00m \u001b[38;5;167;01mImportError\u001b[39;00m \u001b[38;5;28;01mas\u001b[39;00m err:\n\u001b[0;32m--> 303\u001b[0m     \u001b[38;5;28;01mraise\u001b[39;00m \u001b[38;5;167;01mImportError\u001b[39;00m(\u001b[38;5;124m\"\u001b[39m\u001b[38;5;124mrequires pygraphviz http://pygraphviz.github.io/\u001b[39m\u001b[38;5;124m\"\u001b[39m) \u001b[38;5;28;01mfrom\u001b[39;00m \u001b[38;5;21;01merr\u001b[39;00m\n\u001b[1;32m    304\u001b[0m \u001b[38;5;28;01mif\u001b[39;00m root \u001b[38;5;129;01mis\u001b[39;00m \u001b[38;5;129;01mnot\u001b[39;00m \u001b[38;5;28;01mNone\u001b[39;00m:\n\u001b[1;32m    305\u001b[0m     args \u001b[38;5;241m+\u001b[39m\u001b[38;5;241m=\u001b[39m \u001b[38;5;124mf\u001b[39m\u001b[38;5;124m\"\u001b[39m\u001b[38;5;124m-Groot=\u001b[39m\u001b[38;5;132;01m{\u001b[39;00mroot\u001b[38;5;132;01m}\u001b[39;00m\u001b[38;5;124m\"\u001b[39m\n",
      "\u001b[0;31mImportError\u001b[0m: requires pygraphviz http://pygraphviz.github.io/"
     ]
    }
   ],
   "source": [
    "visualize_feature(3000, activations, locations)"
   ]
  }
 ],
 "metadata": {
  "kernelspec": {
   "display_name": "Python 3",
   "language": "python",
   "name": "python3"
  },
  "language_info": {
   "codemirror_mode": {
    "name": "ipython",
    "version": 3
   },
   "file_extension": ".py",
   "mimetype": "text/x-python",
   "name": "python",
   "nbconvert_exporter": "python",
   "pygments_lexer": "ipython3",
   "version": "3.12.7"
  }
 },
 "nbformat": 4,
 "nbformat_minor": 2
}

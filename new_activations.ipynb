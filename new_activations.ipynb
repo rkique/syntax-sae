{
 "cells": [
  {
   "cell_type": "markdown",
   "metadata": {},
   "source": [
    "This notebook downloads a small piece of a text dataset to local cache (`/Users/USER/.cache/huggingface/datasets` on macbook). Then, you should manually install the files (which are dicts for activations and locations for each feature) from [https://huggingface.co/datasets/MrGonao/raw_features_gemma16/tree/main](https://huggingface.co/datasets/MrGonao/raw_features_gemma16/tree/main) to the features folder. After doing this, the code below will find you the activating documents for each feature. "
   ]
  },
  {
   "cell_type": "code",
   "execution_count": 4,
   "metadata": {},
   "outputs": [
    {
     "name": "stdout",
     "output_type": "stream",
     "text": [
      "142384861\n",
      "Visualizing Feature 25\n",
      " photons        @  in which it bends about the middle.Infrared photons will be absorbed by CO2 in that band 71.8125\n",
      " photons        @  decay, falling back into the ground state and emitting photons in the process. The warmer the atmosphere the 63.0\n",
      " radiation      @  level, they emitted much shorter pulses than the electromagnetic radiation going in — just a few femtoseconds 58.40625\n",
      " electromagnetic @  energy level, they emitted much shorter pulses than the electromagnetic radiation going in — just a few femto 57.625\n",
      " radiation      @  is the complete interval of all possible frequencies of electromagnetic radiation. It is the air space through which data 56.5625\n",
      " radiation      @  sample.But a vibrating molecule will also emit radiation at wavelength corresponding to the energy of the vibration 56.5625\n",
      " electromagnetic @ rafast THz pulses (the part of the electromagnetic spectrum between microwaves and infrared light). That 55.375\n",
      " photons        @ . Since temperature falls with altitude, this implies that photons at that frequency escape only higher up. Thus 54.8125\n",
      " photon         @ .e., the number of electrons generated for a photon of energy E > 3.5eV 53.75\n",
      " electromagnetic @  the straight line along which lightlight,visible electromagnetic radiation. Of the entire electromagnetic spectrum, the 53.6875\n",
      " light          @  free to move around.When the electrons emitted light as they came down from the higher energy level 53.34375\n"
     ]
    }
   ],
   "source": [
    "#!pip install transformers transformer_lens datasets utils\n",
    "from datasets import load_dataset\n",
    "from transformer_lens import utils\n",
    "from safetensors.numpy import load_file\n",
    "from transformers import AutoTokenizer\n",
    "from nnsight import LanguageModel\n",
    "from datasets import Dataset\n",
    "from safetensors.numpy import load_file\n",
    "import numpy as np\n",
    "import torch\n",
    "tokenizer = LanguageModel(\"google/gemma-2-9B\").tokenizer\n",
    "data = load_dataset(\"kh4dien/fineweb-100m-sample\", name=\"\", split=\"train\")\n",
    "tokens = utils.tokenize_and_concatenate(data, tokenizer, max_length=256,column_name=\"text\")\n",
    "tokens = tokens.shuffle(22)[\"tokens\"]\n",
    "feature_dict = load_file(\"features/11_0_3275.safetensors\")\n",
    "activations,locations = feature_dict['activations'], feature_dict['locations']\n",
    "locations = torch.tensor(locations.astype(np.int64))\n",
    "def view_batch(n: int):\n",
    "    if n >= len(tokens):\n",
    "        return None\n",
    "    doc = tokens[n]\n",
    "    return tokenizer.batch_decode(doc)\n",
    "\n",
    "#select locations where 10th feature activates.\n",
    "def visualize_feature(n, activations, locations):\n",
    "    print(f\"Visualizing Feature {n}\")\n",
    "    idx = locations[:,2]== n\n",
    "    locations = locations[idx]\n",
    "    activations = activations[idx]\n",
    "    location_dicts = []\n",
    "    for location, activation in zip(locations, activations):\n",
    "        d = {}\n",
    "        d['batch'] = location[0]\n",
    "        d['position'] = location[1]\n",
    "        d['feature'] = location[2]\n",
    "        d['activation'] = activation\n",
    "        location_dicts.append(d)\n",
    "    sorted_location_dicts = sorted(location_dicts, key=lambda x: x['activation'], reverse=True)\n",
    "    #This now has batch where activated & token position where activated\n",
    "    count = 0\n",
    "    for d in sorted_location_dicts:\n",
    "        batch = view_batch(int(d['batch']))\n",
    "        if batch is None:\n",
    "            pass\n",
    "        else:\n",
    "            count += 1\n",
    "            pos = d['position']\n",
    "            context = ''.join([s for s in batch[pos-10:pos+10] if s != '\\n'])\n",
    "            print(f'{batch[pos]:<15} @ {context:<50} {d[\"activation\"]}')\n",
    "        if count > 10:\n",
    "            break\n",
    "\n",
    "print(len(locations))\n",
    "visualize_feature(25, activations, locations)"
   ]
  },
  {
   "cell_type": "code",
   "execution_count": null,
   "metadata": {},
   "outputs": [],
   "source": []
  }
 ],
 "metadata": {
  "kernelspec": {
   "display_name": ".venv",
   "language": "python",
   "name": "python3"
  },
  "language_info": {
   "codemirror_mode": {
    "name": "ipython",
    "version": 3
   },
   "file_extension": ".py",
   "mimetype": "text/x-python",
   "name": "python",
   "nbconvert_exporter": "python",
   "pygments_lexer": "ipython3",
   "version": "3.12.7"
  }
 },
 "nbformat": 4,
 "nbformat_minor": 2
}
